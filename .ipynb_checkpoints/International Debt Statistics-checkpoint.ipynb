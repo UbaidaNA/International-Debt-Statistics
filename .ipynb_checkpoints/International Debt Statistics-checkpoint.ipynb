{
 "cells": [
  {
   "cell_type": "markdown",
   "id": "403cfeca-4a27-464c-860c-b460b22dc264",
   "metadata": {},
   "source": [
    "# Context\n",
    "\n",
    "It's not that we humans only take debts to manage our necessities. A country may also take debt to manage its economy. For example, infrastructure spending is one costly ingredient required for a country's citizens to lead comfortable lives. [The World Bank](https://www.worldbank.org) is the organization that provides debt to countries.\n",
    "\n",
    "In this notebook, we are going to analyze international debt data collected by The World Bank. The dataset contains information about the amount of debt (in USD) owed by developing countries across several categories. We are going to find the answers to questions like: \n",
    "\n",
    "- What is the total amount of debt that is owed by the countries listed in the dataset?\n",
    "- Which country owns the maximum amount of debt and what does that amount look like?\n",
    "- What is the average amount of debt owed by countries across different debt indicators?"
   ]
  },
  {
   "cell_type": "code",
   "execution_count": 22,
   "id": "662d384d-4a72-422b-9669-5a67fa7c611e",
   "metadata": {},
   "outputs": [],
   "source": [
    "# importing libraries\n",
    "\n",
    "import pandas as pd\n",
    "import sqlite3"
   ]
  },
  {
   "cell_type": "code",
   "execution_count": 23,
   "id": "3348e3d0-496d-424b-9081-779281814d22",
   "metadata": {},
   "outputs": [
    {
     "name": "stdout",
     "output_type": "stream",
     "text": [
      "Requirement already satisfied: ipython-sql in c:\\users\\ubnap\\anaconda3\\lib\\site-packages (0.5.0)\n",
      "Requirement already satisfied: prettytable in c:\\users\\ubnap\\anaconda3\\lib\\site-packages (from ipython-sql) (3.10.0)\n",
      "Requirement already satisfied: ipython in c:\\users\\ubnap\\appdata\\roaming\\python\\python311\\site-packages (from ipython-sql) (8.23.0)\n",
      "Requirement already satisfied: sqlalchemy>=2.0 in c:\\users\\ubnap\\anaconda3\\lib\\site-packages (from ipython-sql) (2.0.25)\n",
      "Requirement already satisfied: sqlparse in c:\\users\\ubnap\\anaconda3\\lib\\site-packages (from ipython-sql) (0.5.0)\n",
      "Requirement already satisfied: six in c:\\users\\ubnap\\appdata\\roaming\\python\\python311\\site-packages (from ipython-sql) (1.16.0)\n",
      "Requirement already satisfied: ipython-genutils in c:\\users\\ubnap\\anaconda3\\lib\\site-packages (from ipython-sql) (0.2.0)\n",
      "Requirement already satisfied: typing-extensions>=4.6.0 in c:\\users\\ubnap\\appdata\\roaming\\python\\python311\\site-packages (from sqlalchemy>=2.0->ipython-sql) (4.11.0)\n",
      "Requirement already satisfied: greenlet!=0.4.17 in c:\\users\\ubnap\\anaconda3\\lib\\site-packages (from sqlalchemy>=2.0->ipython-sql) (3.0.1)\n",
      "Requirement already satisfied: decorator in c:\\users\\ubnap\\appdata\\roaming\\python\\python311\\site-packages (from ipython->ipython-sql) (5.1.1)\n",
      "Requirement already satisfied: jedi>=0.16 in c:\\users\\ubnap\\appdata\\roaming\\python\\python311\\site-packages (from ipython->ipython-sql) (0.19.1)\n",
      "Requirement already satisfied: matplotlib-inline in c:\\users\\ubnap\\appdata\\roaming\\python\\python311\\site-packages (from ipython->ipython-sql) (0.1.7)\n",
      "Requirement already satisfied: prompt-toolkit<3.1.0,>=3.0.41 in c:\\users\\ubnap\\appdata\\roaming\\python\\python311\\site-packages (from ipython->ipython-sql) (3.0.43)\n",
      "Requirement already satisfied: pygments>=2.4.0 in c:\\users\\ubnap\\appdata\\roaming\\python\\python311\\site-packages (from ipython->ipython-sql) (2.17.2)\n",
      "Requirement already satisfied: stack-data in c:\\users\\ubnap\\appdata\\roaming\\python\\python311\\site-packages (from ipython->ipython-sql) (0.6.3)\n",
      "Requirement already satisfied: traitlets>=5.13.0 in c:\\users\\ubnap\\appdata\\roaming\\python\\python311\\site-packages (from ipython->ipython-sql) (5.14.2)\n",
      "Requirement already satisfied: colorama in c:\\users\\ubnap\\appdata\\roaming\\python\\python311\\site-packages (from ipython->ipython-sql) (0.4.6)\n",
      "Requirement already satisfied: wcwidth in c:\\users\\ubnap\\appdata\\roaming\\python\\python311\\site-packages (from prettytable->ipython-sql) (0.2.13)\n",
      "Requirement already satisfied: parso<0.9.0,>=0.8.3 in c:\\users\\ubnap\\appdata\\roaming\\python\\python311\\site-packages (from jedi>=0.16->ipython->ipython-sql) (0.8.4)\n",
      "Requirement already satisfied: executing>=1.2.0 in c:\\users\\ubnap\\appdata\\roaming\\python\\python311\\site-packages (from stack-data->ipython->ipython-sql) (2.0.1)\n",
      "Requirement already satisfied: asttokens>=2.1.0 in c:\\users\\ubnap\\appdata\\roaming\\python\\python311\\site-packages (from stack-data->ipython->ipython-sql) (2.4.1)\n",
      "Requirement already satisfied: pure-eval in c:\\users\\ubnap\\appdata\\roaming\\python\\python311\\site-packages (from stack-data->ipython->ipython-sql) (0.2.2)\n"
     ]
    }
   ],
   "source": [
    "# installing the ipython-sql library\n",
    "\n",
    "!pip install ipython-sql"
   ]
  },
  {
   "cell_type": "code",
   "execution_count": 24,
   "id": "6bcbbc11-ee63-42cd-93f8-87f7b1704c91",
   "metadata": {},
   "outputs": [
    {
     "data": {
      "text/html": [
       "<div>\n",
       "<style scoped>\n",
       "    .dataframe tbody tr th:only-of-type {\n",
       "        vertical-align: middle;\n",
       "    }\n",
       "\n",
       "    .dataframe tbody tr th {\n",
       "        vertical-align: top;\n",
       "    }\n",
       "\n",
       "    .dataframe thead th {\n",
       "        text-align: right;\n",
       "    }\n",
       "</style>\n",
       "<table border=\"1\" class=\"dataframe\">\n",
       "  <thead>\n",
       "    <tr style=\"text-align: right;\">\n",
       "      <th></th>\n",
       "      <th>country_name</th>\n",
       "      <th>country_code</th>\n",
       "      <th>indicator_name</th>\n",
       "      <th>indicator_code</th>\n",
       "      <th>debt</th>\n",
       "    </tr>\n",
       "  </thead>\n",
       "  <tbody>\n",
       "    <tr>\n",
       "      <th>0</th>\n",
       "      <td>Afghanistan</td>\n",
       "      <td>AFG</td>\n",
       "      <td>Disbursements on external debt, long-term (DIS...</td>\n",
       "      <td>DT.DIS.DLXF.CD</td>\n",
       "      <td>72894453.7</td>\n",
       "    </tr>\n",
       "    <tr>\n",
       "      <th>1</th>\n",
       "      <td>Afghanistan</td>\n",
       "      <td>AFG</td>\n",
       "      <td>Interest payments on external debt, long-term ...</td>\n",
       "      <td>DT.INT.DLXF.CD</td>\n",
       "      <td>53239440.1</td>\n",
       "    </tr>\n",
       "    <tr>\n",
       "      <th>2</th>\n",
       "      <td>Afghanistan</td>\n",
       "      <td>AFG</td>\n",
       "      <td>PPG, bilateral (AMT, current US$)</td>\n",
       "      <td>DT.AMT.BLAT.CD</td>\n",
       "      <td>61739336.9</td>\n",
       "    </tr>\n",
       "    <tr>\n",
       "      <th>3</th>\n",
       "      <td>Afghanistan</td>\n",
       "      <td>AFG</td>\n",
       "      <td>PPG, bilateral (DIS, current US$)</td>\n",
       "      <td>DT.DIS.BLAT.CD</td>\n",
       "      <td>49114729.4</td>\n",
       "    </tr>\n",
       "    <tr>\n",
       "      <th>4</th>\n",
       "      <td>Afghanistan</td>\n",
       "      <td>AFG</td>\n",
       "      <td>PPG, bilateral (INT, current US$)</td>\n",
       "      <td>DT.INT.BLAT.CD</td>\n",
       "      <td>39903620.1</td>\n",
       "    </tr>\n",
       "  </tbody>\n",
       "</table>\n",
       "</div>"
      ],
      "text/plain": [
       "  country_name country_code  \\\n",
       "0  Afghanistan          AFG   \n",
       "1  Afghanistan          AFG   \n",
       "2  Afghanistan          AFG   \n",
       "3  Afghanistan          AFG   \n",
       "4  Afghanistan          AFG   \n",
       "\n",
       "                                      indicator_name  indicator_code  \\\n",
       "0  Disbursements on external debt, long-term (DIS...  DT.DIS.DLXF.CD   \n",
       "1  Interest payments on external debt, long-term ...  DT.INT.DLXF.CD   \n",
       "2                  PPG, bilateral (AMT, current US$)  DT.AMT.BLAT.CD   \n",
       "3                  PPG, bilateral (DIS, current US$)  DT.DIS.BLAT.CD   \n",
       "4                  PPG, bilateral (INT, current US$)  DT.INT.BLAT.CD   \n",
       "\n",
       "         debt  \n",
       "0  72894453.7  \n",
       "1  53239440.1  \n",
       "2  61739336.9  \n",
       "3  49114729.4  \n",
       "4  39903620.1  "
      ]
     },
     "execution_count": 24,
     "metadata": {},
     "output_type": "execute_result"
    }
   ],
   "source": [
    "# creating dataframe to import data\n",
    "international_debt = pd.read_csv(\"international_debt.csv\")\n",
    "international_debt.head()"
   ]
  },
  {
   "cell_type": "code",
   "execution_count": 25,
   "id": "18c3772d-e773-47dd-b466-ba58bd982233",
   "metadata": {},
   "outputs": [],
   "source": [
    "#creating a connection\n",
    "\n",
    "cnn = sqlite3.connect('world_bank_debt.db')"
   ]
  },
  {
   "cell_type": "code",
   "execution_count": 28,
   "id": "9b7a1318-ea66-4319-a593-08d2955aeca6",
   "metadata": {},
   "outputs": [
    {
     "name": "stdout",
     "output_type": "stream",
     "text": [
      "The sql extension is already loaded. To reload it, use:\n",
      "  %reload_ext sql\n"
     ]
    }
   ],
   "source": [
    "international_debt.to_sql('world_debt',cnn)\n",
    "%load_ext sql"
   ]
  },
  {
   "cell_type": "code",
   "execution_count": 29,
   "id": "14928b0a-89e9-4335-a74e-b11ace7477d5",
   "metadata": {},
   "outputs": [],
   "source": [
    "%sql sqlite:///world_bank_debt.db"
   ]
  },
  {
   "cell_type": "code",
   "execution_count": 35,
   "id": "27bb4190-746f-47d9-8b5c-9a80f8cd219f",
   "metadata": {
    "customType": "sql",
    "dataFrameVariableName": "num_distinct_countries",
    "executionCancelledAt": null,
    "executionTime": 812,
    "lastExecutedAt": 1713354645700,
    "lastExecutedByKernel": "addb4e43-d94b-42a7-abe6-ca745e8d1e46",
    "lastScheduledRunId": null,
    "lastSuccessfullyExecutedCode": "--num_distinct_countries\nSELECT COUNT(DISTINCT(country_name)) AS total_distinct_countries\nFROM international_debt;",
    "outputsMetadata": {
     "0": {
      "height": 95,
      "type": "dataFrame"
     }
    },
    "sqlCellMode": "dataFrame",
    "sqlSource": {
     "integrationId": "89e17161-a224-4a8a-846b-0adc0fe7a4b1",
     "type": "integration"
    }
   },
   "outputs": [
    {
     "name": "stdout",
     "output_type": "stream",
     "text": [
      "   sqlite:///wb_debt.db\n",
      " * sqlite:///world_bank_debt.db\n",
      "Done.\n"
     ]
    },
    {
     "data": {
      "text/html": [
       "<table>\n",
       "    <thead>\n",
       "        <tr>\n",
       "            <th>total_distinct_countries</th>\n",
       "        </tr>\n",
       "    </thead>\n",
       "    <tbody>\n",
       "        <tr>\n",
       "            <td>124</td>\n",
       "        </tr>\n",
       "    </tbody>\n",
       "</table>"
      ],
      "text/plain": [
       "[(124,)]"
      ]
     },
     "execution_count": 35,
     "metadata": {},
     "output_type": "execute_result"
    }
   ],
   "source": [
    "%%sql\n",
    "SELECT COUNT(DISTINCT(country_name)) AS total_distinct_countries\n",
    "FROM world_debt;"
   ]
  },
  {
   "cell_type": "code",
   "execution_count": 40,
   "id": "2d55b23d-9c73-4a6c-9694-544dbf97796f",
   "metadata": {
    "customType": "sql",
    "dataFrameVariableName": "distinct_debt_indicators",
    "executionCancelledAt": null,
    "executionTime": 681,
    "lastExecutedAt": 1713354646381,
    "lastExecutedByKernel": "addb4e43-d94b-42a7-abe6-ca745e8d1e46",
    "lastScheduledRunId": null,
    "lastSuccessfullyExecutedCode": "--distinct_debt_indicators\nSELECT DISTINCT(indicator_name) AS distinct_debt_indicators\nFROM international_debt\nORDER BY distinct_debt_indicators;",
    "outputsMetadata": {
     "0": {
      "height": 346,
      "type": "dataFrame"
     }
    },
    "sqlCellMode": "dataFrame",
    "sqlSource": {
     "integrationId": "89e17161-a224-4a8a-846b-0adc0fe7a4b1",
     "type": "integration"
    }
   },
   "outputs": [
    {
     "name": "stdout",
     "output_type": "stream",
     "text": [
      "   sqlite:///wb_debt.db\n",
      " * sqlite:///world_bank_debt.db\n",
      "Done.\n"
     ]
    },
    {
     "data": {
      "text/html": [
       "<table>\n",
       "    <thead>\n",
       "        <tr>\n",
       "            <th>distinct_debt_indicators</th>\n",
       "        </tr>\n",
       "    </thead>\n",
       "    <tbody>\n",
       "        <tr>\n",
       "            <td>Disbursements on external debt, long-term (DIS, current US$)</td>\n",
       "        </tr>\n",
       "        <tr>\n",
       "            <td>Interest payments on external debt, long-term (INT, current US$)</td>\n",
       "        </tr>\n",
       "        <tr>\n",
       "            <td>Interest payments on external debt, private nonguaranteed (PNG) (INT, current US$)</td>\n",
       "        </tr>\n",
       "        <tr>\n",
       "            <td>PPG, bilateral (AMT, current US$)</td>\n",
       "        </tr>\n",
       "        <tr>\n",
       "            <td>PPG, bilateral (DIS, current US$)</td>\n",
       "        </tr>\n",
       "        <tr>\n",
       "            <td>PPG, bilateral (INT, current US$)</td>\n",
       "        </tr>\n",
       "        <tr>\n",
       "            <td>PPG, bonds (AMT, current US$)</td>\n",
       "        </tr>\n",
       "        <tr>\n",
       "            <td>PPG, bonds (INT, current US$)</td>\n",
       "        </tr>\n",
       "        <tr>\n",
       "            <td>PPG, commercial banks (AMT, current US$)</td>\n",
       "        </tr>\n",
       "        <tr>\n",
       "            <td>PPG, commercial banks (DIS, current US$)</td>\n",
       "        </tr>\n",
       "        <tr>\n",
       "            <td>PPG, commercial banks (INT, current US$)</td>\n",
       "        </tr>\n",
       "        <tr>\n",
       "            <td>PPG, multilateral (AMT, current US$)</td>\n",
       "        </tr>\n",
       "        <tr>\n",
       "            <td>PPG, multilateral (DIS, current US$)</td>\n",
       "        </tr>\n",
       "        <tr>\n",
       "            <td>PPG, multilateral (INT, current US$)</td>\n",
       "        </tr>\n",
       "        <tr>\n",
       "            <td>PPG, official creditors (AMT, current US$)</td>\n",
       "        </tr>\n",
       "        <tr>\n",
       "            <td>PPG, official creditors (DIS, current US$)</td>\n",
       "        </tr>\n",
       "        <tr>\n",
       "            <td>PPG, official creditors (INT, current US$)</td>\n",
       "        </tr>\n",
       "        <tr>\n",
       "            <td>PPG, other private creditors (AMT, current US$)</td>\n",
       "        </tr>\n",
       "        <tr>\n",
       "            <td>PPG, other private creditors (DIS, current US$)</td>\n",
       "        </tr>\n",
       "        <tr>\n",
       "            <td>PPG, other private creditors (INT, current US$)</td>\n",
       "        </tr>\n",
       "        <tr>\n",
       "            <td>PPG, private creditors (AMT, current US$)</td>\n",
       "        </tr>\n",
       "        <tr>\n",
       "            <td>PPG, private creditors (DIS, current US$)</td>\n",
       "        </tr>\n",
       "        <tr>\n",
       "            <td>PPG, private creditors (INT, current US$)</td>\n",
       "        </tr>\n",
       "        <tr>\n",
       "            <td>Principal repayments on external debt, long-term (AMT, current US$)</td>\n",
       "        </tr>\n",
       "        <tr>\n",
       "            <td>Principal repayments on external debt, private nonguaranteed (PNG) (AMT, current US$)</td>\n",
       "        </tr>\n",
       "    </tbody>\n",
       "</table>"
      ],
      "text/plain": [
       "[('Disbursements on external debt, long-term (DIS, current US$)',),\n",
       " ('Interest payments on external debt, long-term (INT, current US$)',),\n",
       " ('Interest payments on external debt, private nonguaranteed (PNG) (INT, current US$)',),\n",
       " ('PPG, bilateral (AMT, current US$)',),\n",
       " ('PPG, bilateral (DIS, current US$)',),\n",
       " ('PPG, bilateral (INT, current US$)',),\n",
       " ('PPG, bonds (AMT, current US$)',),\n",
       " ('PPG, bonds (INT, current US$)',),\n",
       " ('PPG, commercial banks (AMT, current US$)',),\n",
       " ('PPG, commercial banks (DIS, current US$)',),\n",
       " ('PPG, commercial banks (INT, current US$)',),\n",
       " ('PPG, multilateral (AMT, current US$)',),\n",
       " ('PPG, multilateral (DIS, current US$)',),\n",
       " ('PPG, multilateral (INT, current US$)',),\n",
       " ('PPG, official creditors (AMT, current US$)',),\n",
       " ('PPG, official creditors (DIS, current US$)',),\n",
       " ('PPG, official creditors (INT, current US$)',),\n",
       " ('PPG, other private creditors (AMT, current US$)',),\n",
       " ('PPG, other private creditors (DIS, current US$)',),\n",
       " ('PPG, other private creditors (INT, current US$)',),\n",
       " ('PPG, private creditors (AMT, current US$)',),\n",
       " ('PPG, private creditors (DIS, current US$)',),\n",
       " ('PPG, private creditors (INT, current US$)',),\n",
       " ('Principal repayments on external debt, long-term (AMT, current US$)',),\n",
       " ('Principal repayments on external debt, private nonguaranteed (PNG) (AMT, current US$)',)]"
      ]
     },
     "execution_count": 40,
     "metadata": {},
     "output_type": "execute_result"
    }
   ],
   "source": [
    "%%sql\n",
    "SELECT DISTINCT(indicator_name) AS distinct_debt_indicators\n",
    "FROM world_debt\n",
    "ORDER BY distinct_debt_indicators;"
   ]
  },
  {
   "cell_type": "code",
   "execution_count": 43,
   "id": "52c97d25-0361-4958-bd19-e342bdf1fe47",
   "metadata": {
    "chartConfig": {
     "bar": {
      "hasRoundedCorners": true,
      "stacked": false
     },
     "type": "bar",
     "version": "v1"
    },
    "customType": "sql",
    "dataFrameVariableName": "total_debt",
    "executionCancelledAt": null,
    "executionTime": 817,
    "lastExecutedAt": 1713354647198,
    "lastExecutedByKernel": "addb4e43-d94b-42a7-abe6-ca745e8d1e46",
    "lastScheduledRunId": null,
    "lastSuccessfullyExecutedCode": "--total_debt\nSELECT ROUND(SUM(debt / 1000000), 2) AS total_debt\nFROM international_debt;\n\n",
    "outputsMetadata": {
     "0": {
      "height": 95,
      "type": "dataFrame"
     }
    },
    "sqlCellMode": "dataFrame",
    "sqlSource": {
     "integrationId": "89e17161-a224-4a8a-846b-0adc0fe7a4b1",
     "type": "integration"
    },
    "visualizeDataframe": false
   },
   "outputs": [
    {
     "name": "stdout",
     "output_type": "stream",
     "text": [
      "   sqlite:///wb_debt.db\n",
      " * sqlite:///world_bank_debt.db\n",
      "Done.\n"
     ]
    },
    {
     "data": {
      "text/html": [
       "<table>\n",
       "    <thead>\n",
       "        <tr>\n",
       "            <th>total_debt</th>\n",
       "        </tr>\n",
       "    </thead>\n",
       "    <tbody>\n",
       "        <tr>\n",
       "            <td>3079734.49</td>\n",
       "        </tr>\n",
       "    </tbody>\n",
       "</table>"
      ],
      "text/plain": [
       "[(3079734.49,)]"
      ]
     },
     "execution_count": 43,
     "metadata": {},
     "output_type": "execute_result"
    }
   ],
   "source": [
    "%%sql\n",
    "SELECT ROUND(SUM(debt / 1000000), 2) AS total_debt\n",
    "FROM world_debt;"
   ]
  },
  {
   "cell_type": "code",
   "execution_count": 44,
   "id": "93c8f733-7c58-43f4-b5ce-314484e46bab",
   "metadata": {
    "customType": "sql",
    "dataFrameVariableName": "highest_debt_country",
    "executionCancelledAt": null,
    "executionTime": 747,
    "lastExecutedAt": 1713354647946,
    "lastExecutedByKernel": "addb4e43-d94b-42a7-abe6-ca745e8d1e46",
    "lastScheduledRunId": null,
    "lastSuccessfullyExecutedCode": "--highest_debt_country\nSELECT country_name, SUM(debt) AS total_debt \nFROM international_debt\nGROUP BY country_name\nORDER BY total_debt DESC\nLIMIT 1;",
    "outputsMetadata": {
     "0": {
      "height": 95,
      "type": "dataFrame"
     }
    },
    "sqlCellMode": "dataFrame",
    "sqlSource": {
     "integrationId": "89e17161-a224-4a8a-846b-0adc0fe7a4b1",
     "type": "integration"
    }
   },
   "outputs": [
    {
     "name": "stdout",
     "output_type": "stream",
     "text": [
      "   sqlite:///wb_debt.db\n",
      " * sqlite:///world_bank_debt.db\n",
      "Done.\n"
     ]
    },
    {
     "data": {
      "text/html": [
       "<table>\n",
       "    <thead>\n",
       "        <tr>\n",
       "            <th>country_name</th>\n",
       "            <th>total_debt</th>\n",
       "        </tr>\n",
       "    </thead>\n",
       "    <tbody>\n",
       "        <tr>\n",
       "            <td>China</td>\n",
       "            <td>285793494734.2</td>\n",
       "        </tr>\n",
       "    </tbody>\n",
       "</table>"
      ],
      "text/plain": [
       "[('China', 285793494734.2)]"
      ]
     },
     "execution_count": 44,
     "metadata": {},
     "output_type": "execute_result"
    }
   ],
   "source": [
    "%%sql\n",
    "\n",
    "SELECT country_name, SUM(debt) AS total_debt \n",
    "FROM world_debt\n",
    "GROUP BY country_name\n",
    "ORDER BY total_debt DESC\n",
    "LIMIT 1;"
   ]
  },
  {
   "cell_type": "code",
   "execution_count": 23,
   "id": "833811a5-d961-47ea-b7aa-d8232b8f32ee",
   "metadata": {
    "customType": "sql",
    "dataFrameVariableName": "avg_debt_per_indicator",
    "executionCancelledAt": null,
    "executionTime": 790,
    "lastExecutedAt": 1713354648736,
    "lastExecutedByKernel": "addb4e43-d94b-42a7-abe6-ca745e8d1e46",
    "lastScheduledRunId": null,
    "lastSuccessfullyExecutedCode": "--avg_debt_per_indicator\nSELECT indicator_code AS debt_indicator, indicator_name, AVG(debt) AS average_debt \nFROM international_debt\nGROUP BY debt_indicator, indicator_name\nORDER BY average_debt DESC\nLIMIT 10;\n",
    "outputsMetadata": {
     "0": {
      "height": 318,
      "type": "dataFrame"
     }
    },
    "sqlCellMode": "dataFrame",
    "sqlSource": {
     "integrationId": "89e17161-a224-4a8a-846b-0adc0fe7a4b1",
     "type": "integration"
    }
   },
   "outputs": [
    {
     "@datacamp/metadata": {
      "executedQuery": "--avg_debt_per_indicator\nSELECT indicator_code AS debt_indicator, indicator_name, AVG(debt) AS average_debt \nFROM international_debt\nGROUP BY debt_indicator, indicator_name\nORDER BY average_debt DESC\nLIMIT 10;",
      "executedQueryParameters": []
     },
     "data": {
      "application/com.datacamp.data-table.v2+json": {
       "table": {
        "data": {
         "average_debt": [
          5904868401.499193,
          5161194333.812657,
          2152041216.890244,
          1958983452.859836,
          1803694101.9632652,
          1644024067.6508064,
          1223139290.39823,
          1220410844.4215188,
          1191187963.0830643,
          1082623947.653623
         ],
         "debt_indicator": [
          "DT.AMT.DLXF.CD",
          "DT.AMT.DPNG.CD",
          "DT.DIS.DLXF.CD",
          "DT.DIS.OFFT.CD",
          "DT.AMT.PRVT.CD",
          "DT.INT.DLXF.CD",
          "DT.DIS.BLAT.CD",
          "DT.INT.DPNG.CD",
          "DT.AMT.OFFT.CD",
          "DT.AMT.PBND.CD"
         ],
         "index": [
          0,
          1,
          2,
          3,
          4,
          5,
          6,
          7,
          8,
          9
         ],
         "indicator_name": [
          "Principal repayments on external debt, long-term (AMT, current US$)",
          "Principal repayments on external debt, private nonguaranteed (PNG) (AMT, current US$)",
          "Disbursements on external debt, long-term (DIS, current US$)",
          "PPG, official creditors (DIS, current US$)",
          "PPG, private creditors (AMT, current US$)",
          "Interest payments on external debt, long-term (INT, current US$)",
          "PPG, bilateral (DIS, current US$)",
          "Interest payments on external debt, private nonguaranteed (PNG) (INT, current US$)",
          "PPG, official creditors (AMT, current US$)",
          "PPG, bonds (AMT, current US$)"
         ]
        },
        "schema": {
         "fields": [
          {
           "name": "index",
           "type": "integer"
          },
          {
           "name": "debt_indicator",
           "type": "string"
          },
          {
           "name": "indicator_name",
           "type": "string"
          },
          {
           "name": "average_debt",
           "type": "number"
          }
         ],
         "pandas_version": "1.4.0",
         "primaryKey": [
          "index"
         ]
        }
       },
       "total_rows": 10,
       "truncation_type": null
      },
      "text/html": [
       "<div>\n",
       "<style scoped>\n",
       "    .dataframe tbody tr th:only-of-type {\n",
       "        vertical-align: middle;\n",
       "    }\n",
       "\n",
       "    .dataframe tbody tr th {\n",
       "        vertical-align: top;\n",
       "    }\n",
       "\n",
       "    .dataframe thead th {\n",
       "        text-align: right;\n",
       "    }\n",
       "</style>\n",
       "<table border=\"1\" class=\"dataframe\">\n",
       "  <thead>\n",
       "    <tr style=\"text-align: right;\">\n",
       "      <th></th>\n",
       "      <th>debt_indicator</th>\n",
       "      <th>indicator_name</th>\n",
       "      <th>average_debt</th>\n",
       "    </tr>\n",
       "  </thead>\n",
       "  <tbody>\n",
       "    <tr>\n",
       "      <th>0</th>\n",
       "      <td>DT.AMT.DLXF.CD</td>\n",
       "      <td>Principal repayments on external debt, long-te...</td>\n",
       "      <td>5.904868e+09</td>\n",
       "    </tr>\n",
       "    <tr>\n",
       "      <th>1</th>\n",
       "      <td>DT.AMT.DPNG.CD</td>\n",
       "      <td>Principal repayments on external debt, private...</td>\n",
       "      <td>5.161194e+09</td>\n",
       "    </tr>\n",
       "    <tr>\n",
       "      <th>2</th>\n",
       "      <td>DT.DIS.DLXF.CD</td>\n",
       "      <td>Disbursements on external debt, long-term (DIS...</td>\n",
       "      <td>2.152041e+09</td>\n",
       "    </tr>\n",
       "    <tr>\n",
       "      <th>3</th>\n",
       "      <td>DT.DIS.OFFT.CD</td>\n",
       "      <td>PPG, official creditors (DIS, current US$)</td>\n",
       "      <td>1.958983e+09</td>\n",
       "    </tr>\n",
       "    <tr>\n",
       "      <th>4</th>\n",
       "      <td>DT.AMT.PRVT.CD</td>\n",
       "      <td>PPG, private creditors (AMT, current US$)</td>\n",
       "      <td>1.803694e+09</td>\n",
       "    </tr>\n",
       "    <tr>\n",
       "      <th>5</th>\n",
       "      <td>DT.INT.DLXF.CD</td>\n",
       "      <td>Interest payments on external debt, long-term ...</td>\n",
       "      <td>1.644024e+09</td>\n",
       "    </tr>\n",
       "    <tr>\n",
       "      <th>6</th>\n",
       "      <td>DT.DIS.BLAT.CD</td>\n",
       "      <td>PPG, bilateral (DIS, current US$)</td>\n",
       "      <td>1.223139e+09</td>\n",
       "    </tr>\n",
       "    <tr>\n",
       "      <th>7</th>\n",
       "      <td>DT.INT.DPNG.CD</td>\n",
       "      <td>Interest payments on external debt, private no...</td>\n",
       "      <td>1.220411e+09</td>\n",
       "    </tr>\n",
       "    <tr>\n",
       "      <th>8</th>\n",
       "      <td>DT.AMT.OFFT.CD</td>\n",
       "      <td>PPG, official creditors (AMT, current US$)</td>\n",
       "      <td>1.191188e+09</td>\n",
       "    </tr>\n",
       "    <tr>\n",
       "      <th>9</th>\n",
       "      <td>DT.AMT.PBND.CD</td>\n",
       "      <td>PPG, bonds (AMT, current US$)</td>\n",
       "      <td>1.082624e+09</td>\n",
       "    </tr>\n",
       "  </tbody>\n",
       "</table>\n",
       "</div>"
      ],
      "text/plain": [
       "   debt_indicator  ...  average_debt\n",
       "0  DT.AMT.DLXF.CD  ...  5.904868e+09\n",
       "1  DT.AMT.DPNG.CD  ...  5.161194e+09\n",
       "2  DT.DIS.DLXF.CD  ...  2.152041e+09\n",
       "3  DT.DIS.OFFT.CD  ...  1.958983e+09\n",
       "4  DT.AMT.PRVT.CD  ...  1.803694e+09\n",
       "5  DT.INT.DLXF.CD  ...  1.644024e+09\n",
       "6  DT.DIS.BLAT.CD  ...  1.223139e+09\n",
       "7  DT.INT.DPNG.CD  ...  1.220411e+09\n",
       "8  DT.AMT.OFFT.CD  ...  1.191188e+09\n",
       "9  DT.AMT.PBND.CD  ...  1.082624e+09\n",
       "\n",
       "[10 rows x 3 columns]"
      ]
     },
     "execution_count": 23,
     "metadata": {},
     "output_type": "execute_result"
    }
   ],
   "source": [
    "--avg_debt_per_indicator\n",
    "SELECT indicator_code AS debt_indicator, indicator_name, AVG(debt) AS average_debt \n",
    "FROM international_debt\n",
    "GROUP BY debt_indicator, indicator_name\n",
    "ORDER BY average_debt DESC\n",
    "LIMIT 10;\n"
   ]
  },
  {
   "cell_type": "code",
   "execution_count": 48,
   "id": "54ba840f-fb60-40ba-b97d-d98d96f9b8da",
   "metadata": {
    "customType": "sql",
    "dataFrameVariableName": "highest_principal_repayment",
    "executionCancelledAt": null,
    "executionTime": 692,
    "lastExecutedAt": 1713354649428,
    "lastExecutedByKernel": "addb4e43-d94b-42a7-abe6-ca745e8d1e46",
    "lastScheduledRunId": null,
    "lastSuccessfullyExecutedCode": "--highest_principal_repayment\nSELECT international_debt.country_name, international_debt.indicator_name \nFROM international_debt\nWHERE debt = (SELECT MAX(debt) \n\t\t\t  FROM international_debt\n\t\t\t  WHERE indicator_code = 'DT.AMT.DLXF.CD');",
    "outputsMetadata": {
     "0": {
      "height": 95,
      "type": "dataFrame"
     }
    },
    "sqlCellMode": "dataFrame",
    "sqlSource": {
     "integrationId": "89e17161-a224-4a8a-846b-0adc0fe7a4b1",
     "type": "integration"
    }
   },
   "outputs": [
    {
     "name": "stdout",
     "output_type": "stream",
     "text": [
      "   sqlite:///wb_debt.db\n",
      " * sqlite:///world_bank_debt.db\n",
      "Done.\n"
     ]
    },
    {
     "data": {
      "text/html": [
       "<table>\n",
       "    <thead>\n",
       "        <tr>\n",
       "            <th>country_name</th>\n",
       "            <th>indicator_name</th>\n",
       "        </tr>\n",
       "    </thead>\n",
       "    <tbody>\n",
       "        <tr>\n",
       "            <td>China</td>\n",
       "            <td>Principal repayments on external debt, long-term (AMT, current US$)</td>\n",
       "        </tr>\n",
       "    </tbody>\n",
       "</table>"
      ],
      "text/plain": [
       "[('China', 'Principal repayments on external debt, long-term (AMT, current US$)')]"
      ]
     },
     "execution_count": 48,
     "metadata": {},
     "output_type": "execute_result"
    }
   ],
   "source": [
    "%%sql \n",
    "\n",
    "SELECT world_debt.country_name, world_debt.indicator_name \n",
    "FROM world_debt\n",
    "WHERE debt = (SELECT MAX(debt) \n",
    "\t\t\t  FROM world_debt\n",
    "\t\t\t  WHERE indicator_code = 'DT.AMT.DLXF.CD');"
   ]
  },
  {
   "cell_type": "code",
   "execution_count": null,
   "id": "ea353657-257b-4118-8e21-09acf3c01037",
   "metadata": {},
   "outputs": [],
   "source": []
  }
 ],
 "metadata": {
  "colab": {
   "name": "Welcome to DataCamp Workspaces.ipynb",
   "provenance": []
  },
  "kernelspec": {
   "display_name": "Python 3 (ipykernel)",
   "language": "python",
   "name": "python3"
  },
  "language_info": {
   "codemirror_mode": {
    "name": "ipython",
    "version": 3
   },
   "file_extension": ".py",
   "mimetype": "text/x-python",
   "name": "python",
   "nbconvert_exporter": "python",
   "pygments_lexer": "ipython3",
   "version": "3.11.7"
  }
 },
 "nbformat": 4,
 "nbformat_minor": 5
}
